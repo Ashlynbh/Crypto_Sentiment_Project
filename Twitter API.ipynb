{
 "cells": [
  {
   "cell_type": "code",
   "execution_count": 1,
   "metadata": {},
   "outputs": [],
   "source": [
    "import snscrape.modules.twitter as sntwitter\n",
    "import pandas as pd\n",
    "import progressbar\n",
    "from time import sleep\n",
    "from datetime import datetime\n",
    "import os\n",
    "from datetime import datetime as dt\n",
    "import datetime\n",
    "import tweepy"
   ]
  },
  {
   "cell_type": "code",
   "execution_count": 2,
   "metadata": {},
   "outputs": [],
   "source": [
    "# assign the values accordingly\n",
    "consumer_key = \"GylE7sqHXcPL0txXHEEXc2JqO\"\n",
    "consumer_secret = \"zR6ZnWT80VB55LkPelQrpMg9eAXVqfYIlckJPmspeWJq4AVjm5\""
   ]
  },
  {
   "cell_type": "code",
   "execution_count": 8,
   "metadata": {},
   "outputs": [],
   "source": [
    "tweet_dict = {'#eth': ['#eth since:2022-05-04 until:2022-05-05', 10000]}"
   ]
  },
  {
   "cell_type": "code",
   "execution_count": 3,
   "metadata": {},
   "outputs": [],
   "source": [
    "# authorization of consumer key and consumer secret\n",
    "auth = tweepy.OAuthHandler(consumer_key, consumer_secret)\n",
    "  "
   ]
  },
  {
   "cell_type": "code",
   "execution_count": 10,
   "metadata": {},
   "outputs": [
    {
     "name": "stderr",
     "output_type": "stream",
     "text": [
      "[                                                                        ]   0%\r"
     ]
    },
    {
     "name": "stdout",
     "output_type": "stream",
     "text": [
      "#eth %\n"
     ]
    },
    {
     "name": "stderr",
     "output_type": "stream",
     "text": [
      "[========================================================================] 100%\n"
     ]
    }
   ],
   "source": [
    "today = dt.today().strftime('%Y%m%d')[2:]+'_'\n",
    "for index, tweet_name in enumerate(tweet_dict):\n",
    "    print(tweet_name, '%')\n",
    "    tweets_list1 = []\n",
    "    bar = progressbar.ProgressBar(maxval=tweet_dict[tweet_name][1]+2, widgets=[progressbar.Bar('=', '[', ']'), ' ', progressbar.Percentage()])\n",
    "    bar.start()\n",
    "    for i,tweet in enumerate(sntwitter.TwitterSearchScraper(f'{tweet_dict[tweet_name][0]}').get_items()): \n",
    "        bar.update(i+1)\n",
    "        if i>tweet_dict[tweet_name][1]: \n",
    "            break\n",
    "        tweets_list1.append([tweet.date, tweet.id, tweet.content, tweet.user.username]) \n",
    "    tweets_df1 = pd.DataFrame(tweets_list1, columns=['Datetime', 'Tweet Id', 'Text', 'Username'])\n",
    "\n",
    "    tweets_df1[['Datetime', 'Text']].to_csv(f'data/eth_day3.csv')\n",
    "    bar.finish()"
   ]
  },
  {
   "cell_type": "code",
   "execution_count": 11,
   "metadata": {},
   "outputs": [
    {
     "name": "stderr",
     "output_type": "stream",
     "text": [
      "[                                                                        ]   0%\r"
     ]
    },
    {
     "name": "stdout",
     "output_type": "stream",
     "text": [
      "#eth %\n"
     ]
    },
    {
     "name": "stderr",
     "output_type": "stream",
     "text": [
      "[========================================================================] 100%\n"
     ]
    }
   ],
   "source": [
    "tweet_dict = {'#eth': ['#eth since:2022-05-05 until:2022-05-06', 10000]}\n",
    "today = dt.today().strftime('%Y%m%d')[2:]+'_'\n",
    "for index, tweet_name in enumerate(tweet_dict):\n",
    "    print(tweet_name, '%')\n",
    "    tweets_list1 = []\n",
    "    bar = progressbar.ProgressBar(maxval=tweet_dict[tweet_name][1]+2, widgets=[progressbar.Bar('=', '[', ']'), ' ', progressbar.Percentage()])\n",
    "    bar.start()\n",
    "    for i,tweet in enumerate(sntwitter.TwitterSearchScraper(f'{tweet_dict[tweet_name][0]}').get_items()): \n",
    "        bar.update(i+1)\n",
    "        if i>tweet_dict[tweet_name][1]: \n",
    "            break\n",
    "        tweets_list1.append([tweet.date, tweet.id, tweet.content, tweet.user.username]) \n",
    "    tweets_df1 = pd.DataFrame(tweets_list1, columns=['Datetime', 'Tweet Id', 'Text', 'Username'])\n",
    "\n",
    "    tweets_df1[['Datetime', 'Text']].to_csv(f'data/eth_day4.csv')\n",
    "    bar.finish()"
   ]
  },
  {
   "cell_type": "code",
   "execution_count": 12,
   "metadata": {},
   "outputs": [
    {
     "name": "stderr",
     "output_type": "stream",
     "text": [
      "[                                                                        ]   0%\r"
     ]
    },
    {
     "name": "stdout",
     "output_type": "stream",
     "text": [
      "#eth %\n"
     ]
    },
    {
     "name": "stderr",
     "output_type": "stream",
     "text": [
      "[========================================================================] 100%\n"
     ]
    }
   ],
   "source": [
    "tweet_dict = {'#eth': ['#eth since:2022-05-06 until:2022-05-07', 10000]}\n",
    "today = dt.today().strftime('%Y%m%d')[2:]+'_'\n",
    "for index, tweet_name in enumerate(tweet_dict):\n",
    "    print(tweet_name, '%')\n",
    "    tweets_list1 = []\n",
    "    bar = progressbar.ProgressBar(maxval=tweet_dict[tweet_name][1]+2, widgets=[progressbar.Bar('=', '[', ']'), ' ', progressbar.Percentage()])\n",
    "    bar.start()\n",
    "    for i,tweet in enumerate(sntwitter.TwitterSearchScraper(f'{tweet_dict[tweet_name][0]}').get_items()): \n",
    "        bar.update(i+1)\n",
    "        if i>tweet_dict[tweet_name][1]: \n",
    "            break\n",
    "        tweets_list1.append([tweet.date, tweet.id, tweet.content, tweet.user.username]) \n",
    "    tweets_df1 = pd.DataFrame(tweets_list1, columns=['Datetime', 'Tweet Id', 'Text', 'Username'])\n",
    "\n",
    "    tweets_df1[['Datetime', 'Text']].to_csv(f'data/eth_day5.csv')\n",
    "    bar.finish()"
   ]
  },
  {
   "cell_type": "code",
   "execution_count": 13,
   "metadata": {},
   "outputs": [
    {
     "name": "stderr",
     "output_type": "stream",
     "text": [
      "[                                                                        ]   0%\r"
     ]
    },
    {
     "name": "stdout",
     "output_type": "stream",
     "text": [
      "#eth %\n"
     ]
    },
    {
     "name": "stderr",
     "output_type": "stream",
     "text": [
      "[========================================================================] 100%\n"
     ]
    }
   ],
   "source": [
    "tweet_dict = {'#eth': ['#eth since:2022-05-07 until:2022-05-08', 10000]}\n",
    "today = dt.today().strftime('%Y%m%d')[2:]+'_'\n",
    "for index, tweet_name in enumerate(tweet_dict):\n",
    "    print(tweet_name, '%')\n",
    "    tweets_list1 = []\n",
    "    bar = progressbar.ProgressBar(maxval=tweet_dict[tweet_name][1]+2, widgets=[progressbar.Bar('=', '[', ']'), ' ', progressbar.Percentage()])\n",
    "    bar.start()\n",
    "    for i,tweet in enumerate(sntwitter.TwitterSearchScraper(f'{tweet_dict[tweet_name][0]}').get_items()): \n",
    "        bar.update(i+1)\n",
    "        if i>tweet_dict[tweet_name][1]: \n",
    "            break\n",
    "        tweets_list1.append([tweet.date, tweet.id, tweet.content, tweet.user.username]) \n",
    "    tweets_df1 = pd.DataFrame(tweets_list1, columns=['Datetime', 'Tweet Id', 'Text', 'Username'])\n",
    "\n",
    "    tweets_df1[['Datetime', 'Text']].to_csv(f'data/eth_day6.csv')\n",
    "    bar.finish()"
   ]
  },
  {
   "cell_type": "code",
   "execution_count": 14,
   "metadata": {},
   "outputs": [
    {
     "name": "stderr",
     "output_type": "stream",
     "text": [
      "[                                                                        ]   0%\r"
     ]
    },
    {
     "name": "stdout",
     "output_type": "stream",
     "text": [
      "#eth %\n"
     ]
    },
    {
     "name": "stderr",
     "output_type": "stream",
     "text": [
      "[========================================================================] 100%\n"
     ]
    }
   ],
   "source": [
    "tweet_dict = {'#eth': ['#eth since:2022-05-08 until:2022-05-09', 10000]}\n",
    "today = dt.today().strftime('%Y%m%d')[2:]+'_'\n",
    "for index, tweet_name in enumerate(tweet_dict):\n",
    "    print(tweet_name, '%')\n",
    "    tweets_list1 = []\n",
    "    bar = progressbar.ProgressBar(maxval=tweet_dict[tweet_name][1]+2, widgets=[progressbar.Bar('=', '[', ']'), ' ', progressbar.Percentage()])\n",
    "    bar.start()\n",
    "    for i,tweet in enumerate(sntwitter.TwitterSearchScraper(f'{tweet_dict[tweet_name][0]}').get_items()): \n",
    "        bar.update(i+1)\n",
    "        if i>tweet_dict[tweet_name][1]: \n",
    "            break\n",
    "        tweets_list1.append([tweet.date, tweet.id, tweet.content, tweet.user.username]) \n",
    "    tweets_df1 = pd.DataFrame(tweets_list1, columns=['Datetime', 'Tweet Id', 'Text', 'Username'])\n",
    "\n",
    "    tweets_df1[['Datetime', 'Text']].to_csv(f'data/eth_day7.csv')\n",
    "    bar.finish()"
   ]
  },
  {
   "cell_type": "code",
   "execution_count": 15,
   "metadata": {},
   "outputs": [
    {
     "name": "stderr",
     "output_type": "stream",
     "text": [
      "[                                                                        ]   0%\r"
     ]
    },
    {
     "name": "stdout",
     "output_type": "stream",
     "text": [
      "#eth %\n"
     ]
    },
    {
     "name": "stderr",
     "output_type": "stream",
     "text": [
      "[========================================================================] 100%\n"
     ]
    }
   ],
   "source": [
    "tweet_dict = {'#eth': ['#eth since:2022-05-09 until:2022-05-10', 10000]}\n",
    "today = dt.today().strftime('%Y%m%d')[2:]+'_'\n",
    "for index, tweet_name in enumerate(tweet_dict):\n",
    "    print(tweet_name, '%')\n",
    "    tweets_list1 = []\n",
    "    bar = progressbar.ProgressBar(maxval=tweet_dict[tweet_name][1]+2, widgets=[progressbar.Bar('=', '[', ']'), ' ', progressbar.Percentage()])\n",
    "    bar.start()\n",
    "    for i,tweet in enumerate(sntwitter.TwitterSearchScraper(f'{tweet_dict[tweet_name][0]}').get_items()): \n",
    "        bar.update(i+1)\n",
    "        if i>tweet_dict[tweet_name][1]: \n",
    "            break\n",
    "        tweets_list1.append([tweet.date, tweet.id, tweet.content, tweet.user.username]) \n",
    "    tweets_df1 = pd.DataFrame(tweets_list1, columns=['Datetime', 'Tweet Id', 'Text', 'Username'])\n",
    "\n",
    "    tweets_df1[['Datetime', 'Text']].to_csv(f'data/eth_day8.csv')\n",
    "    bar.finish()"
   ]
  },
  {
   "cell_type": "code",
   "execution_count": 16,
   "metadata": {},
   "outputs": [
    {
     "name": "stderr",
     "output_type": "stream",
     "text": [
      "[                                                                        ]   0%\r"
     ]
    },
    {
     "name": "stdout",
     "output_type": "stream",
     "text": [
      "#eth %\n"
     ]
    },
    {
     "name": "stderr",
     "output_type": "stream",
     "text": [
      "[========================================================================] 100%\n"
     ]
    }
   ],
   "source": [
    "tweet_dict = {'#eth': ['#eth since:2022-05-10 until:2022-05-11', 10000]}\n",
    "today = dt.today().strftime('%Y%m%d')[2:]+'_'\n",
    "for index, tweet_name in enumerate(tweet_dict):\n",
    "    print(tweet_name, '%')\n",
    "    tweets_list1 = []\n",
    "    bar = progressbar.ProgressBar(maxval=tweet_dict[tweet_name][1]+2, widgets=[progressbar.Bar('=', '[', ']'), ' ', progressbar.Percentage()])\n",
    "    bar.start()\n",
    "    for i,tweet in enumerate(sntwitter.TwitterSearchScraper(f'{tweet_dict[tweet_name][0]}').get_items()): \n",
    "        bar.update(i+1)\n",
    "        if i>tweet_dict[tweet_name][1]: \n",
    "            break\n",
    "        tweets_list1.append([tweet.date, tweet.id, tweet.content, tweet.user.username]) \n",
    "    tweets_df1 = pd.DataFrame(tweets_list1, columns=['Datetime', 'Tweet Id', 'Text', 'Username'])\n",
    "\n",
    "    tweets_df1[['Datetime', 'Text']].to_csv(f'data/eth_day9.csv')\n",
    "    bar.finish()"
   ]
  },
  {
   "cell_type": "code",
   "execution_count": 17,
   "metadata": {},
   "outputs": [
    {
     "name": "stderr",
     "output_type": "stream",
     "text": [
      "[                                                                        ]   0%\r"
     ]
    },
    {
     "name": "stdout",
     "output_type": "stream",
     "text": [
      "#eth %\n"
     ]
    },
    {
     "name": "stderr",
     "output_type": "stream",
     "text": [
      "[========================================================================] 100%\n"
     ]
    }
   ],
   "source": [
    "tweet_dict = {'#eth': ['#eth since:2022-05-11 until:2022-05-12', 10000]}\n",
    "today = dt.today().strftime('%Y%m%d')[2:]+'_'\n",
    "for index, tweet_name in enumerate(tweet_dict):\n",
    "    print(tweet_name, '%')\n",
    "    tweets_list1 = []\n",
    "    bar = progressbar.ProgressBar(maxval=tweet_dict[tweet_name][1]+2, widgets=[progressbar.Bar('=', '[', ']'), ' ', progressbar.Percentage()])\n",
    "    bar.start()\n",
    "    for i,tweet in enumerate(sntwitter.TwitterSearchScraper(f'{tweet_dict[tweet_name][0]}').get_items()): \n",
    "        bar.update(i+1)\n",
    "        if i>tweet_dict[tweet_name][1]: \n",
    "            break\n",
    "        tweets_list1.append([tweet.date, tweet.id, tweet.content, tweet.user.username]) \n",
    "    tweets_df1 = pd.DataFrame(tweets_list1, columns=['Datetime', 'Tweet Id', 'Text', 'Username'])\n",
    "\n",
    "    tweets_df1[['Datetime', 'Text']].to_csv(f'data/eth_day10.csv')\n",
    "    bar.finish()"
   ]
  },
  {
   "cell_type": "code",
   "execution_count": 18,
   "metadata": {},
   "outputs": [
    {
     "name": "stderr",
     "output_type": "stream",
     "text": [
      "[                                                                        ]   0%\r"
     ]
    },
    {
     "name": "stdout",
     "output_type": "stream",
     "text": [
      "#eth %\n"
     ]
    },
    {
     "name": "stderr",
     "output_type": "stream",
     "text": [
      "[========================================================================] 100%\n"
     ]
    }
   ],
   "source": [
    "tweet_dict = {'#eth': ['#eth since:2022-05-12 until:2022-05-13', 10000]}\n",
    "today = dt.today().strftime('%Y%m%d')[2:]+'_'\n",
    "for index, tweet_name in enumerate(tweet_dict):\n",
    "    print(tweet_name, '%')\n",
    "    tweets_list1 = []\n",
    "    bar = progressbar.ProgressBar(maxval=tweet_dict[tweet_name][1]+2, widgets=[progressbar.Bar('=', '[', ']'), ' ', progressbar.Percentage()])\n",
    "    bar.start()\n",
    "    for i,tweet in enumerate(sntwitter.TwitterSearchScraper(f'{tweet_dict[tweet_name][0]}').get_items()): \n",
    "        bar.update(i+1)\n",
    "        if i>tweet_dict[tweet_name][1]: \n",
    "            break\n",
    "        tweets_list1.append([tweet.date, tweet.id, tweet.content, tweet.user.username]) \n",
    "    tweets_df1 = pd.DataFrame(tweets_list1, columns=['Datetime', 'Tweet Id', 'Text', 'Username'])\n",
    "\n",
    "    tweets_df1[['Datetime', 'Text']].to_csv(f'data/eth_day11.csv')\n",
    "    bar.finish()"
   ]
  },
  {
   "cell_type": "code",
   "execution_count": 19,
   "metadata": {},
   "outputs": [
    {
     "name": "stderr",
     "output_type": "stream",
     "text": [
      "[                                                                        ]   0%\r"
     ]
    },
    {
     "name": "stdout",
     "output_type": "stream",
     "text": [
      "#eth %\n"
     ]
    },
    {
     "name": "stderr",
     "output_type": "stream",
     "text": [
      "[========================================================================] 100%\n"
     ]
    }
   ],
   "source": [
    "tweet_dict = {'#eth': ['#eth since:2022-05-13 until:2022-05-14', 10000]}\n",
    "today = dt.today().strftime('%Y%m%d')[2:]+'_'\n",
    "for index, tweet_name in enumerate(tweet_dict):\n",
    "    print(tweet_name, '%')\n",
    "    tweets_list1 = []\n",
    "    bar = progressbar.ProgressBar(maxval=tweet_dict[tweet_name][1]+2, widgets=[progressbar.Bar('=', '[', ']'), ' ', progressbar.Percentage()])\n",
    "    bar.start()\n",
    "    for i,tweet in enumerate(sntwitter.TwitterSearchScraper(f'{tweet_dict[tweet_name][0]}').get_items()): \n",
    "        bar.update(i+1)\n",
    "        if i>tweet_dict[tweet_name][1]: \n",
    "            break\n",
    "        tweets_list1.append([tweet.date, tweet.id, tweet.content, tweet.user.username]) \n",
    "    tweets_df1 = pd.DataFrame(tweets_list1, columns=['Datetime', 'Tweet Id', 'Text', 'Username'])\n",
    "\n",
    "    tweets_df1[['Datetime', 'Text']].to_csv(f'data/eth_day12.csv')\n",
    "    bar.finish()"
   ]
  },
  {
   "cell_type": "code",
   "execution_count": 4,
   "metadata": {},
   "outputs": [
    {
     "name": "stderr",
     "output_type": "stream",
     "text": [
      "[                                                                        ]   0%\r"
     ]
    },
    {
     "name": "stdout",
     "output_type": "stream",
     "text": [
      "#eth %\n"
     ]
    },
    {
     "name": "stderr",
     "output_type": "stream",
     "text": [
      "[========================================================================] 100%\n"
     ]
    }
   ],
   "source": [
    "tweet_dict = {'#eth': ['#eth since:2022-05-14 until:2022-05-15', 10000]}\n",
    "today = dt.today().strftime('%Y%m%d')[2:]+'_'\n",
    "for index, tweet_name in enumerate(tweet_dict):\n",
    "    print(tweet_name, '%')\n",
    "    tweets_list1 = []\n",
    "    bar = progressbar.ProgressBar(maxval=tweet_dict[tweet_name][1]+2, widgets=[progressbar.Bar('=', '[', ']'), ' ', progressbar.Percentage()])\n",
    "    bar.start()\n",
    "    for i,tweet in enumerate(sntwitter.TwitterSearchScraper(f'{tweet_dict[tweet_name][0]}').get_items()): \n",
    "        bar.update(i+1)\n",
    "        if i>tweet_dict[tweet_name][1]: \n",
    "            break\n",
    "        tweets_list1.append([tweet.date, tweet.id, tweet.content, tweet.user.username]) \n",
    "    tweets_df1 = pd.DataFrame(tweets_list1, columns=['Datetime', 'Tweet Id', 'Text', 'Username'])\n",
    "\n",
    "    tweets_df1[['Datetime', 'Text']].to_csv(f'data/eth_day13.csv')\n",
    "    bar.finish()"
   ]
  },
  {
   "cell_type": "code",
   "execution_count": 5,
   "metadata": {},
   "outputs": [
    {
     "name": "stderr",
     "output_type": "stream",
     "text": [
      "[                                                                        ]   0%\r"
     ]
    },
    {
     "name": "stdout",
     "output_type": "stream",
     "text": [
      "#eth %\n"
     ]
    },
    {
     "name": "stderr",
     "output_type": "stream",
     "text": [
      "[========================================================================] 100%\n"
     ]
    }
   ],
   "source": [
    "tweet_dict = {'#eth': ['#eth since:2022-05-15 until:2022-05-16', 10000]}\n",
    "today = dt.today().strftime('%Y%m%d')[2:]+'_'\n",
    "for index, tweet_name in enumerate(tweet_dict):\n",
    "    print(tweet_name, '%')\n",
    "    tweets_list1 = []\n",
    "    bar = progressbar.ProgressBar(maxval=tweet_dict[tweet_name][1]+2, widgets=[progressbar.Bar('=', '[', ']'), ' ', progressbar.Percentage()])\n",
    "    bar.start()\n",
    "    for i,tweet in enumerate(sntwitter.TwitterSearchScraper(f'{tweet_dict[tweet_name][0]}').get_items()): \n",
    "        bar.update(i+1)\n",
    "        if i>tweet_dict[tweet_name][1]: \n",
    "            break\n",
    "        tweets_list1.append([tweet.date, tweet.id, tweet.content, tweet.user.username]) \n",
    "    tweets_df1 = pd.DataFrame(tweets_list1, columns=['Datetime', 'Tweet Id', 'Text', 'Username'])\n",
    "\n",
    "    tweets_df1[['Datetime', 'Text']].to_csv(f'data/eth_day14.csv')\n",
    "    bar.finish()"
   ]
  },
  {
   "cell_type": "code",
   "execution_count": 6,
   "metadata": {},
   "outputs": [
    {
     "name": "stderr",
     "output_type": "stream",
     "text": [
      "[                                                                        ]   0%\r"
     ]
    },
    {
     "name": "stdout",
     "output_type": "stream",
     "text": [
      "#eth %\n"
     ]
    },
    {
     "name": "stderr",
     "output_type": "stream",
     "text": [
      "[========================================================================] 100%\n"
     ]
    }
   ],
   "source": [
    "tweet_dict = {'#eth': ['#eth since:2022-05-16 until:2022-05-17', 10000]}\n",
    "today = dt.today().strftime('%Y%m%d')[2:]+'_'\n",
    "for index, tweet_name in enumerate(tweet_dict):\n",
    "    print(tweet_name, '%')\n",
    "    tweets_list1 = []\n",
    "    bar = progressbar.ProgressBar(maxval=tweet_dict[tweet_name][1]+2, widgets=[progressbar.Bar('=', '[', ']'), ' ', progressbar.Percentage()])\n",
    "    bar.start()\n",
    "    for i,tweet in enumerate(sntwitter.TwitterSearchScraper(f'{tweet_dict[tweet_name][0]}').get_items()): \n",
    "        bar.update(i+1)\n",
    "        if i>tweet_dict[tweet_name][1]: \n",
    "            break\n",
    "        tweets_list1.append([tweet.date, tweet.id, tweet.content, tweet.user.username]) \n",
    "    tweets_df1 = pd.DataFrame(tweets_list1, columns=['Datetime', 'Tweet Id', 'Text', 'Username'])\n",
    "\n",
    "    tweets_df1[['Datetime', 'Text']].to_csv(f'data/eth_day15.csv')\n",
    "    bar.finish()"
   ]
  },
  {
   "cell_type": "code",
   "execution_count": null,
   "metadata": {},
   "outputs": [],
   "source": []
  }
 ],
 "metadata": {
  "kernelspec": {
   "display_name": "Python 3",
   "language": "python",
   "name": "python3"
  },
  "language_info": {
   "codemirror_mode": {
    "name": "ipython",
    "version": 3
   },
   "file_extension": ".py",
   "mimetype": "text/x-python",
   "name": "python",
   "nbconvert_exporter": "python",
   "pygments_lexer": "ipython3",
   "version": "3.8.8"
  },
  "varInspector": {
   "cols": {
    "lenName": 16,
    "lenType": 16,
    "lenVar": 40
   },
   "kernels_config": {
    "python": {
     "delete_cmd_postfix": "",
     "delete_cmd_prefix": "del ",
     "library": "var_list.py",
     "varRefreshCmd": "print(var_dic_list())"
    },
    "r": {
     "delete_cmd_postfix": ") ",
     "delete_cmd_prefix": "rm(",
     "library": "var_list.r",
     "varRefreshCmd": "cat(var_dic_list()) "
    }
   },
   "types_to_exclude": [
    "module",
    "function",
    "builtin_function_or_method",
    "instance",
    "_Feature"
   ],
   "window_display": false
  }
 },
 "nbformat": 4,
 "nbformat_minor": 2
}
