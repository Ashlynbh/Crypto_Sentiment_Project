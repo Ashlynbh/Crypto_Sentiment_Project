{
 "cells": [
  {
   "cell_type": "code",
   "execution_count": 33,
   "metadata": {},
   "outputs": [],
   "source": [
    "import snscrape.modules.twitter as sntwitter\n",
    "import pandas as pd\n",
    "import progressbar\n",
    "from time import sleep\n",
    "from datetime import datetime\n",
    "import os\n",
    "from datetime import datetime as dt\n",
    "import datetime\n",
    "import tweepy\n",
    "\n",
    "tweet_dict = {'ethereum': ['eth since:2021-01-01 until:2021-03-01', 50000]}"
   ]
  },
  {
   "cell_type": "code",
   "execution_count": 34,
   "metadata": {},
   "outputs": [],
   "source": [
    "# assign the values accordingly\n",
    "consumer_key = \"fvItzV84gF38vbLruuyq2czE2\"\n",
    "consumer_secret = \"tILmcLbbzv0WpeMDYc4J5zz9NO4UY3CW8nPj8AQGzSAV9uB0if\""
   ]
  },
  {
   "cell_type": "code",
   "execution_count": 35,
   "metadata": {},
   "outputs": [],
   "source": [
    "# authorization of consumer key and consumer secret\n",
    "auth = tweepy.OAuthHandler(consumer_key, consumer_secret)\n",
    "  "
   ]
  },
  {
   "cell_type": "code",
   "execution_count": null,
   "metadata": {},
   "outputs": [
    {
     "name": "stderr",
     "output_type": "stream",
     "text": [
      "[                                                                         ]   0%\r"
     ]
    },
    {
     "name": "stdout",
     "output_type": "stream",
     "text": [
      "ethereum %\n"
     ]
    },
    {
     "name": "stderr",
     "output_type": "stream",
     "text": [
      "[=======                                                                  ]  10%\r"
     ]
    }
   ],
   "source": [
    "today = dt.today().strftime('%Y%m%d')[2:]+'_'\n",
    "for index, tweet_name in enumerate(tweet_dict):\n",
    "    print(tweet_name, '%')\n",
    "    tweets_list1 = []\n",
    "    bar = progressbar.ProgressBar(maxval=tweet_dict[tweet_name][1]+2, widgets=[progressbar.Bar('=', '[', ']'), ' ', progressbar.Percentage()])\n",
    "    bar.start()\n",
    "    for i,tweet in enumerate(sntwitter.TwitterSearchScraper(f'{movie_dict[movie_name][0]}').get_items()): \n",
    "        bar.update(i+1)\n",
    "        if i>tweet_dict[tweet_name][1]: \n",
    "            break\n",
    "        tweets_list1.append([tweet.date, tweet.id, tweet.content, tweet.user.username]) \n",
    "    tweets_df1 = pd.DataFrame(tweets_list1, columns=['Datetime', 'Tweet Id', 'Text', 'Username'])\n",
    "\n",
    "    tweets_df1[['Datetime', 'Text']].to_csv(f'{index}.csv')\n",
    "    bar.finish()"
   ]
  },
  {
   "cell_type": "code",
   "execution_count": null,
   "metadata": {},
   "outputs": [],
   "source": []
  }
 ],
 "metadata": {
  "kernelspec": {
   "display_name": "Python 3 (ipykernel)",
   "language": "python",
   "name": "python3"
  },
  "language_info": {
   "codemirror_mode": {
    "name": "ipython",
    "version": 3
   },
   "file_extension": ".py",
   "mimetype": "text/x-python",
   "name": "python",
   "nbconvert_exporter": "python",
   "pygments_lexer": "ipython3",
   "version": "3.9.7"
  },
  "varInspector": {
   "cols": {
    "lenName": 16,
    "lenType": 16,
    "lenVar": 40
   },
   "kernels_config": {
    "python": {
     "delete_cmd_postfix": "",
     "delete_cmd_prefix": "del ",
     "library": "var_list.py",
     "varRefreshCmd": "print(var_dic_list())"
    },
    "r": {
     "delete_cmd_postfix": ") ",
     "delete_cmd_prefix": "rm(",
     "library": "var_list.r",
     "varRefreshCmd": "cat(var_dic_list()) "
    }
   },
   "types_to_exclude": [
    "module",
    "function",
    "builtin_function_or_method",
    "instance",
    "_Feature"
   ],
   "window_display": false
  }
 },
 "nbformat": 4,
 "nbformat_minor": 2
}
