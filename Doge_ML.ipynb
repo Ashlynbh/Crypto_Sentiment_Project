{
 "cells": [
  {
   "cell_type": "code",
   "execution_count": 1,
   "metadata": {},
   "outputs": [],
   "source": [
    "from sklearn import tree\n",
    "import pandas as pd\n",
    "import os\n",
    "import numpy as np\n",
    "from sklearn.model_selection import train_test_split\n",
    "from sklearn.metrics import ConfusionMatrixDisplay\n",
    "import matplotlib.pyplot as plt\n",
    "from sklearn.svm import LinearSVC\n",
    "from sklearn.naive_bayes import BernoulliNB\n",
    "from sklearn.linear_model import LogisticRegression\n",
    "from sklearn.feature_extraction.text import TfidfVectorizer\n",
    "from sklearn.metrics import confusion_matrix, classification_report\n",
    "import re\n",
    "from nltk.stem import WordNetLemmatizer\n",
    "\n",
    "#for Coin value\n",
    "from pycoingecko import CoinGeckoAPI\n",
    "import json\n",
    "from pandas import json_normalize\n",
    "cg = CoinGeckoAPI()\n",
    "gecko_list = [\n",
    "    \"bitcoin\",\n",
    "    \"ethereum\",\n",
    "    \"dogecoin\"\n",
    "]"
   ]
  },
  {
   "cell_type": "code",
   "execution_count": 2,
   "metadata": {},
   "outputs": [
    {
     "data": {
      "text/html": [
       "<div>\n",
       "<style scoped>\n",
       "    .dataframe tbody tr th:only-of-type {\n",
       "        vertical-align: middle;\n",
       "    }\n",
       "\n",
       "    .dataframe tbody tr th {\n",
       "        vertical-align: top;\n",
       "    }\n",
       "\n",
       "    .dataframe thead th {\n",
       "        text-align: right;\n",
       "    }\n",
       "</style>\n",
       "<table border=\"1\" class=\"dataframe\">\n",
       "  <thead>\n",
       "    <tr style=\"text-align: right;\">\n",
       "      <th></th>\n",
       "      <th>Unnamed: 0</th>\n",
       "      <th>date</th>\n",
       "      <th>cleaned</th>\n",
       "      <th>negative</th>\n",
       "      <th>neutral</th>\n",
       "      <th>positive</th>\n",
       "      <th>comp</th>\n",
       "    </tr>\n",
       "  </thead>\n",
       "  <tbody>\n",
       "    <tr>\n",
       "      <th>0</th>\n",
       "      <td>0</td>\n",
       "      <td>2022-05-01</td>\n",
       "      <td>['btc', 'eth', 'doge', 'en', 'best', 'discord'...</td>\n",
       "      <td>0.078</td>\n",
       "      <td>0.578</td>\n",
       "      <td>0.344</td>\n",
       "      <td>0.8481</td>\n",
       "    </tr>\n",
       "    <tr>\n",
       "      <th>1</th>\n",
       "      <td>1</td>\n",
       "      <td>2022-05-01</td>\n",
       "      <td>['selenaroyf', 'polydog', 'metapetzai', 'jamie...</td>\n",
       "      <td>0.000</td>\n",
       "      <td>1.000</td>\n",
       "      <td>0.000</td>\n",
       "      <td>0.0000</td>\n",
       "    </tr>\n",
       "    <tr>\n",
       "      <th>2</th>\n",
       "      <td>2</td>\n",
       "      <td>2022-05-01</td>\n",
       "      <td>['1', 'eth', '1429', 'tweet', '2', 'btc', '103...</td>\n",
       "      <td>0.000</td>\n",
       "      <td>1.000</td>\n",
       "      <td>0.000</td>\n",
       "      <td>0.0000</td>\n",
       "    </tr>\n",
       "    <tr>\n",
       "      <th>3</th>\n",
       "      <td>3</td>\n",
       "      <td>2022-05-01</td>\n",
       "      <td>['selenaroyf', 'polydog', 'metapetzai', 'carpe...</td>\n",
       "      <td>0.000</td>\n",
       "      <td>1.000</td>\n",
       "      <td>0.000</td>\n",
       "      <td>0.0000</td>\n",
       "    </tr>\n",
       "    <tr>\n",
       "      <th>4</th>\n",
       "      <td>4</td>\n",
       "      <td>2022-05-01</td>\n",
       "      <td>['264', '600', '000', '000', 'x', '7', '55', '...</td>\n",
       "      <td>0.000</td>\n",
       "      <td>1.000</td>\n",
       "      <td>0.000</td>\n",
       "      <td>0.0000</td>\n",
       "    </tr>\n",
       "    <tr>\n",
       "      <th>...</th>\n",
       "      <td>...</td>\n",
       "      <td>...</td>\n",
       "      <td>...</td>\n",
       "      <td>...</td>\n",
       "      <td>...</td>\n",
       "      <td>...</td>\n",
       "      <td>...</td>\n",
       "    </tr>\n",
       "    <tr>\n",
       "      <th>38593</th>\n",
       "      <td>38593</td>\n",
       "      <td>2022-05-16</td>\n",
       "      <td>['cb', 'doge', 'elonmusk', 'goal', 'one', 'day...</td>\n",
       "      <td>0.000</td>\n",
       "      <td>1.000</td>\n",
       "      <td>0.000</td>\n",
       "      <td>0.0000</td>\n",
       "    </tr>\n",
       "    <tr>\n",
       "      <th>38594</th>\n",
       "      <td>38594</td>\n",
       "      <td>2022-05-16</td>\n",
       "      <td>['know', 'tough', 'dwac', 'tsla', 'bb', 'doge'...</td>\n",
       "      <td>0.176</td>\n",
       "      <td>0.824</td>\n",
       "      <td>0.000</td>\n",
       "      <td>-0.1280</td>\n",
       "    </tr>\n",
       "    <tr>\n",
       "      <th>38595</th>\n",
       "      <td>38595</td>\n",
       "      <td>2022-05-16</td>\n",
       "      <td>['doge', '0', '09311', '0', '09201', '0', '089...</td>\n",
       "      <td>0.000</td>\n",
       "      <td>1.000</td>\n",
       "      <td>0.000</td>\n",
       "      <td>0.0000</td>\n",
       "    </tr>\n",
       "    <tr>\n",
       "      <th>38596</th>\n",
       "      <td>38596</td>\n",
       "      <td>2022-05-16</td>\n",
       "      <td>['btc', 'price', '31', '319', 'eth', 'price', ...</td>\n",
       "      <td>0.000</td>\n",
       "      <td>1.000</td>\n",
       "      <td>0.000</td>\n",
       "      <td>0.0000</td>\n",
       "    </tr>\n",
       "    <tr>\n",
       "      <th>38597</th>\n",
       "      <td>38597</td>\n",
       "      <td>2022-05-16</td>\n",
       "      <td>['mention', 'crypto', 'reddit', 'today', 'far'...</td>\n",
       "      <td>0.000</td>\n",
       "      <td>1.000</td>\n",
       "      <td>0.000</td>\n",
       "      <td>0.0000</td>\n",
       "    </tr>\n",
       "  </tbody>\n",
       "</table>\n",
       "<p>38598 rows × 7 columns</p>\n",
       "</div>"
      ],
      "text/plain": [
       "       Unnamed: 0        date  \\\n",
       "0               0  2022-05-01   \n",
       "1               1  2022-05-01   \n",
       "2               2  2022-05-01   \n",
       "3               3  2022-05-01   \n",
       "4               4  2022-05-01   \n",
       "...           ...         ...   \n",
       "38593       38593  2022-05-16   \n",
       "38594       38594  2022-05-16   \n",
       "38595       38595  2022-05-16   \n",
       "38596       38596  2022-05-16   \n",
       "38597       38597  2022-05-16   \n",
       "\n",
       "                                                 cleaned  negative  neutral  \\\n",
       "0      ['btc', 'eth', 'doge', 'en', 'best', 'discord'...     0.078    0.578   \n",
       "1      ['selenaroyf', 'polydog', 'metapetzai', 'jamie...     0.000    1.000   \n",
       "2      ['1', 'eth', '1429', 'tweet', '2', 'btc', '103...     0.000    1.000   \n",
       "3      ['selenaroyf', 'polydog', 'metapetzai', 'carpe...     0.000    1.000   \n",
       "4      ['264', '600', '000', '000', 'x', '7', '55', '...     0.000    1.000   \n",
       "...                                                  ...       ...      ...   \n",
       "38593  ['cb', 'doge', 'elonmusk', 'goal', 'one', 'day...     0.000    1.000   \n",
       "38594  ['know', 'tough', 'dwac', 'tsla', 'bb', 'doge'...     0.176    0.824   \n",
       "38595  ['doge', '0', '09311', '0', '09201', '0', '089...     0.000    1.000   \n",
       "38596  ['btc', 'price', '31', '319', 'eth', 'price', ...     0.000    1.000   \n",
       "38597  ['mention', 'crypto', 'reddit', 'today', 'far'...     0.000    1.000   \n",
       "\n",
       "       positive    comp  \n",
       "0         0.344  0.8481  \n",
       "1         0.000  0.0000  \n",
       "2         0.000  0.0000  \n",
       "3         0.000  0.0000  \n",
       "4         0.000  0.0000  \n",
       "...         ...     ...  \n",
       "38593     0.000  0.0000  \n",
       "38594     0.000 -0.1280  \n",
       "38595     0.000  0.0000  \n",
       "38596     0.000  0.0000  \n",
       "38597     0.000  0.0000  \n",
       "\n",
       "[38598 rows x 7 columns]"
      ]
     },
     "execution_count": 2,
     "metadata": {},
     "output_type": "execute_result"
    }
   ],
   "source": [
    "# doge = pd.read_csv(os.path.join(\"data\", \"doge.csv\"))\n",
    "# doge = doge.rename(columns={\"Datetime\":\"date\"})\n",
    "# doge['date'] = pd.to_datetime(doge['date'])\n",
    "# doge['date'] = doge['date'].dt.strftime('%Y-%m-%d')\n",
    "# doge\n",
    "\n",
    "doge = pd.read_csv(os.path.join(\"\", \"Data\", \"doge.csv\"))\n",
    "doge = doge.rename(columns={\"Datetime\":\"date\"})\n",
    "doge"
   ]
  },
  {
   "cell_type": "code",
   "execution_count": 3,
   "metadata": {},
   "outputs": [],
   "source": [
    "doge_neg = doge[doge['negative'] > 0.2]\n",
    "doge_pos = doge[doge['positive'] > 0.2]"
   ]
  },
  {
   "cell_type": "code",
   "execution_count": 4,
   "metadata": {},
   "outputs": [
    {
     "data": {
      "text/html": [
       "<div>\n",
       "<style scoped>\n",
       "    .dataframe tbody tr th:only-of-type {\n",
       "        vertical-align: middle;\n",
       "    }\n",
       "\n",
       "    .dataframe tbody tr th {\n",
       "        vertical-align: top;\n",
       "    }\n",
       "\n",
       "    .dataframe thead th {\n",
       "        text-align: right;\n",
       "    }\n",
       "</style>\n",
       "<table border=\"1\" class=\"dataframe\">\n",
       "  <thead>\n",
       "    <tr style=\"text-align: right;\">\n",
       "      <th></th>\n",
       "      <th>Unnamed: 0</th>\n",
       "      <th>date</th>\n",
       "      <th>cleaned</th>\n",
       "      <th>negative</th>\n",
       "      <th>neutral</th>\n",
       "      <th>positive</th>\n",
       "      <th>comp</th>\n",
       "    </tr>\n",
       "  </thead>\n",
       "  <tbody>\n",
       "    <tr>\n",
       "      <th>0</th>\n",
       "      <td>0</td>\n",
       "      <td>2022-05-01</td>\n",
       "      <td>['btc', 'eth', 'doge', 'en', 'best', 'discord'...</td>\n",
       "      <td>0.078</td>\n",
       "      <td>0.578</td>\n",
       "      <td>0.344</td>\n",
       "      <td>0.8481</td>\n",
       "    </tr>\n",
       "    <tr>\n",
       "      <th>14</th>\n",
       "      <td>14</td>\n",
       "      <td>2022-05-01</td>\n",
       "      <td>['elonmusk', 'billym2k', 'dogecoin', 'part', '...</td>\n",
       "      <td>0.000</td>\n",
       "      <td>0.750</td>\n",
       "      <td>0.250</td>\n",
       "      <td>0.2500</td>\n",
       "    </tr>\n",
       "    <tr>\n",
       "      <th>25</th>\n",
       "      <td>25</td>\n",
       "      <td>2022-05-01</td>\n",
       "      <td>['gate', 'io', 'ye', 'good', 'result', 'doge']</td>\n",
       "      <td>0.000</td>\n",
       "      <td>0.633</td>\n",
       "      <td>0.367</td>\n",
       "      <td>0.4404</td>\n",
       "    </tr>\n",
       "    <tr>\n",
       "      <th>35</th>\n",
       "      <td>35</td>\n",
       "      <td>2022-05-01</td>\n",
       "      <td>['dogememegirl', 'dogecoin', 'know', 'also', '...</td>\n",
       "      <td>0.000</td>\n",
       "      <td>0.690</td>\n",
       "      <td>0.310</td>\n",
       "      <td>0.4019</td>\n",
       "    </tr>\n",
       "    <tr>\n",
       "      <th>37</th>\n",
       "      <td>37</td>\n",
       "      <td>2022-05-01</td>\n",
       "      <td>['next', 'kiba', 'mri', 'doge', 'arriv', 'kind...</td>\n",
       "      <td>0.000</td>\n",
       "      <td>0.790</td>\n",
       "      <td>0.210</td>\n",
       "      <td>0.7269</td>\n",
       "    </tr>\n",
       "    <tr>\n",
       "      <th>...</th>\n",
       "      <td>...</td>\n",
       "      <td>...</td>\n",
       "      <td>...</td>\n",
       "      <td>...</td>\n",
       "      <td>...</td>\n",
       "      <td>...</td>\n",
       "      <td>...</td>\n",
       "    </tr>\n",
       "    <tr>\n",
       "      <th>38554</th>\n",
       "      <td>38554</td>\n",
       "      <td>2022-05-16</td>\n",
       "      <td>['doge', 'overbought', 'short', 'signal', 'suc...</td>\n",
       "      <td>0.000</td>\n",
       "      <td>0.693</td>\n",
       "      <td>0.307</td>\n",
       "      <td>0.7964</td>\n",
       "    </tr>\n",
       "    <tr>\n",
       "      <th>38569</th>\n",
       "      <td>38569</td>\n",
       "      <td>2022-05-16</td>\n",
       "      <td>['elon', 'musk', 'forese', 'huge', 'use', 'cas...</td>\n",
       "      <td>0.000</td>\n",
       "      <td>0.713</td>\n",
       "      <td>0.287</td>\n",
       "      <td>0.8934</td>\n",
       "    </tr>\n",
       "    <tr>\n",
       "      <th>38579</th>\n",
       "      <td>38579</td>\n",
       "      <td>2022-05-16</td>\n",
       "      <td>['btc', 'eth', 'doge', 'sol', 'best', 'discord...</td>\n",
       "      <td>0.078</td>\n",
       "      <td>0.578</td>\n",
       "      <td>0.344</td>\n",
       "      <td>0.8481</td>\n",
       "    </tr>\n",
       "    <tr>\n",
       "      <th>38584</th>\n",
       "      <td>38584</td>\n",
       "      <td>2022-05-16</td>\n",
       "      <td>['btc', 'luna', 'spi', 'doge', 'twtr', 'stockm...</td>\n",
       "      <td>0.000</td>\n",
       "      <td>0.769</td>\n",
       "      <td>0.231</td>\n",
       "      <td>0.5106</td>\n",
       "    </tr>\n",
       "    <tr>\n",
       "      <th>38588</th>\n",
       "      <td>38588</td>\n",
       "      <td>2022-05-16</td>\n",
       "      <td>['btc', 'eth', 'doge', 'sol', 'best', 'discord...</td>\n",
       "      <td>0.078</td>\n",
       "      <td>0.578</td>\n",
       "      <td>0.344</td>\n",
       "      <td>0.8481</td>\n",
       "    </tr>\n",
       "  </tbody>\n",
       "</table>\n",
       "<p>5758 rows × 7 columns</p>\n",
       "</div>"
      ],
      "text/plain": [
       "       Unnamed: 0        date  \\\n",
       "0               0  2022-05-01   \n",
       "14             14  2022-05-01   \n",
       "25             25  2022-05-01   \n",
       "35             35  2022-05-01   \n",
       "37             37  2022-05-01   \n",
       "...           ...         ...   \n",
       "38554       38554  2022-05-16   \n",
       "38569       38569  2022-05-16   \n",
       "38579       38579  2022-05-16   \n",
       "38584       38584  2022-05-16   \n",
       "38588       38588  2022-05-16   \n",
       "\n",
       "                                                 cleaned  negative  neutral  \\\n",
       "0      ['btc', 'eth', 'doge', 'en', 'best', 'discord'...     0.078    0.578   \n",
       "14     ['elonmusk', 'billym2k', 'dogecoin', 'part', '...     0.000    0.750   \n",
       "25        ['gate', 'io', 'ye', 'good', 'result', 'doge']     0.000    0.633   \n",
       "35     ['dogememegirl', 'dogecoin', 'know', 'also', '...     0.000    0.690   \n",
       "37     ['next', 'kiba', 'mri', 'doge', 'arriv', 'kind...     0.000    0.790   \n",
       "...                                                  ...       ...      ...   \n",
       "38554  ['doge', 'overbought', 'short', 'signal', 'suc...     0.000    0.693   \n",
       "38569  ['elon', 'musk', 'forese', 'huge', 'use', 'cas...     0.000    0.713   \n",
       "38579  ['btc', 'eth', 'doge', 'sol', 'best', 'discord...     0.078    0.578   \n",
       "38584  ['btc', 'luna', 'spi', 'doge', 'twtr', 'stockm...     0.000    0.769   \n",
       "38588  ['btc', 'eth', 'doge', 'sol', 'best', 'discord...     0.078    0.578   \n",
       "\n",
       "       positive    comp  \n",
       "0         0.344  0.8481  \n",
       "14        0.250  0.2500  \n",
       "25        0.367  0.4404  \n",
       "35        0.310  0.4019  \n",
       "37        0.210  0.7269  \n",
       "...         ...     ...  \n",
       "38554     0.307  0.7964  \n",
       "38569     0.287  0.8934  \n",
       "38579     0.344  0.8481  \n",
       "38584     0.231  0.5106  \n",
       "38588     0.344  0.8481  \n",
       "\n",
       "[5758 rows x 7 columns]"
      ]
     },
     "execution_count": 4,
     "metadata": {},
     "output_type": "execute_result"
    }
   ],
   "source": [
    "doge_pos"
   ]
  },
  {
   "cell_type": "code",
   "execution_count": 5,
   "metadata": {},
   "outputs": [
    {
     "name": "stdout",
     "output_type": "stream",
     "text": [
      "1591\n",
      "5758\n"
     ]
    }
   ],
   "source": [
    "print(len(doge_neg))\n",
    "print(len(doge_pos))"
   ]
  },
  {
   "cell_type": "code",
   "execution_count": 6,
   "metadata": {},
   "outputs": [],
   "source": [
    "positive = doge_pos['cleaned']\n",
    "\n",
    "from matplotlib import pyplot as plt\n",
    "from wordcloud import WordCloud "
   ]
  },
  {
   "cell_type": "code",
   "execution_count": null,
   "metadata": {},
   "outputs": [],
   "source": [
    "positive = doge_pos['cleaned']\n",
    "plt.figure(figsize = (20,20))\n",
    "wc = WordCloud(max_words = 1000 , background_color = \"whitesmoke\",width = 1600 , height = 800,\n",
    "               collocations=False).generate(\" \".join(positive))\n",
    "plt.imshow(wc)"
   ]
  },
  {
   "cell_type": "code",
   "execution_count": null,
   "metadata": {},
   "outputs": [],
   "source": [
    "negative = doge_neg['cleaned']\n",
    "plt.figure(figsize = (20,20))\n",
    "wc2 = WordCloud(max_words = 1000 ,background_color = \"whitesmoke\", width = 1600 , height = 800,\n",
    "               collocations=False).generate(\" \".join(negative))\n",
    "plt.imshow(wc2)"
   ]
  },
  {
   "cell_type": "code",
   "execution_count": null,
   "metadata": {},
   "outputs": [],
   "source": [
    "##asigning value to positive, negative and neutral, negative(0), neutral(1), positive(2)\n",
    "sentiment0=[]\n",
    "for i in range(len(doge)):\n",
    "    if doge.loc[i,'negative']>0:\n",
    "        sentiment0+=[0]\n",
    "    elif doge.loc[i,'positive']>0:\n",
    "        sentiment0+=[2]        \n",
    "    else:\n",
    "        sentiment0+=[1]     "
   ]
  },
  {
   "cell_type": "code",
   "execution_count": null,
   "metadata": {},
   "outputs": [],
   "source": [
    "doge['sentiment']=sentiment0\n",
    "doge['sentiment'].value_counts()\n",
    "\n",
    "doge.head()"
   ]
  },
  {
   "cell_type": "code",
   "execution_count": null,
   "metadata": {},
   "outputs": [],
   "source": [
    "target = doge[\"cleaned\"]\n",
    "target_names = doge[[\"sentiment\"]]"
   ]
  },
  {
   "cell_type": "markdown",
   "metadata": {},
   "source": [
    "# This section is to extract the value of Ethereum (plus Dodge and Bitcoin)"
   ]
  },
  {
   "cell_type": "code",
   "execution_count": null,
   "metadata": {},
   "outputs": [],
   "source": [
    "df_cryptocurrency = pd.concat(frame_list, axis=1)"
   ]
  },
  {
   "cell_type": "code",
   "execution_count": null,
   "metadata": {},
   "outputs": [],
   "source": [
    "crypto = pd.read_csv(os.path.join(\"Data\", \"price.csv\"))"
   ]
  },
  {
   "cell_type": "code",
   "execution_count": null,
   "metadata": {},
   "outputs": [],
   "source": [
    "crypto['Change DOGE'] = crypto.dogecoin_price - crypto.dogecoin_price.shift(1)\n",
    "crypto"
   ]
  },
  {
   "cell_type": "code",
   "execution_count": null,
   "metadata": {},
   "outputs": [],
   "source": [
    "crypto['Doge Up/Down'] = np.where(crypto['Change DOGE']>0, 1, 0)\n",
    "crypto"
   ]
  },
  {
   "cell_type": "markdown",
   "metadata": {},
   "source": [
    "# Calculate the where the average sentiment overall per day was positive or negative and combine with the ETH table on price going up/down"
   ]
  },
  {
   "cell_type": "code",
   "execution_count": null,
   "metadata": {},
   "outputs": [],
   "source": [
    "doge_sentiment = doge.groupby('date')['sentiment'].mean()\n",
    "doge_sentiment = doge_sentiment.reset_index()\n",
    "doge_sentiment"
   ]
  },
  {
   "cell_type": "code",
   "execution_count": null,
   "metadata": {},
   "outputs": [],
   "source": [
    "doge_sentiment['sentiment'] = np.where(doge_sentiment['sentiment']>0, 1, 0)"
   ]
  },
  {
   "cell_type": "code",
   "execution_count": null,
   "metadata": {},
   "outputs": [],
   "source": [
    "doge_sentiment_move = pd.merge(doge_sentiment, crypto,how='outer', on='date')\n",
    "doge_sentiment_move"
   ]
  },
  {
   "cell_type": "markdown",
   "metadata": {},
   "source": [
    "# Sentiment Analysis - Starts Here"
   ]
  },
  {
   "cell_type": "code",
   "execution_count": null,
   "metadata": {},
   "outputs": [],
   "source": [
    "# Plotting the distribution for dataset.\n",
    "ax = doge1.groupby('sentiment').count().plot(kind='bar', title='Distribution of data',legend=False)\n",
    "ax.set_xticklabels(['Negative','Neutral','Positive'], rotation=0)\n",
    "# Storing data in lists.\n",
    "text, sentiment = list(doge1['cleaned']), list(doge1['sentiment'])\n",
    "plt.savefig(\"images/doge_sent_dist.png\")"
   ]
  },
  {
   "cell_type": "code",
   "execution_count": null,
   "metadata": {},
   "outputs": [],
   "source": [
    "import seaborn as sns\n",
    "sns.countplot(x='sentiment', data=doge1)\n",
    "plt.savefig(\"images/doge_sent_dist2.png\")"
   ]
  },
  {
   "cell_type": "code",
   "execution_count": null,
   "metadata": {},
   "outputs": [],
   "source": [
    "data = doge[['cleaned', 'sentiment']]\n",
    "data"
   ]
  },
  {
   "cell_type": "code",
   "execution_count": null,
   "metadata": {},
   "outputs": [],
   "source": [
    "data['sentiment'].unique()"
   ]
  },
  {
   "cell_type": "code",
   "execution_count": null,
   "metadata": {},
   "outputs": [],
   "source": [
    "#Separating the postivie and negative tweets\n",
    "data_pos = data[data['sentiment'] == 2]\n",
    "data_neg = data[data['sentiment'] == 0]"
   ]
  },
  {
   "cell_type": "code",
   "execution_count": null,
   "metadata": {},
   "outputs": [],
   "source": [
    "data_pos = data_pos.iloc[:int(20000)]\n",
    "data_neg = data_neg.iloc[:int(20000)]"
   ]
  },
  {
   "cell_type": "code",
   "execution_count": null,
   "metadata": {},
   "outputs": [],
   "source": [
    "dataset = pd.concat([data_pos, data_neg])\n",
    "dataset"
   ]
  },
  {
   "cell_type": "code",
   "execution_count": null,
   "metadata": {},
   "outputs": [],
   "source": [
    "dataset['cleaned']=dataset['cleaned'].str.lower()\n",
    "dataset['cleaned'].tail()"
   ]
  },
  {
   "cell_type": "code",
   "execution_count": null,
   "metadata": {},
   "outputs": [],
   "source": [
    "##Cleaning and removing STOPWORDS\n",
    "\n",
    "stopwordlist = ['a', 'about', 'above', 'after', 'again', 'ain', 'all', 'am', 'an',\n",
    "             'and','any','are', 'as', 'at', 'be', 'because', 'been', 'before',\n",
    "             'being', 'below', 'between','both', 'by', 'can', 'd', 'did', 'do',\n",
    "             'does', 'doing', 'down', 'during', 'each','few', 'for', 'from',\n",
    "             'further', 'had', 'has', 'have', 'having', 'he', 'her', 'here',\n",
    "             'hers', 'herself', 'him', 'himself', 'his', 'how', 'i', 'if', 'in',\n",
    "             'into','is', 'it', 'its', 'itself', 'just', 'll', 'm', 'ma',\n",
    "             'me', 'more', 'most','my', 'myself', 'now', 'o', 'of', 'on', 'once',\n",
    "             'only', 'or', 'other', 'our', 'ours','ourselves', 'out', 'own', 're','s', 'same', 'she', \"shes\", 'should', \"shouldve\",'so', 'some', 'such',\n",
    "             't', 'than', 'that', \"thatll\", 'the', 'their', 'theirs', 'them',\n",
    "             'themselves', 'then', 'there', 'these', 'they', 'this', 'those',\n",
    "             'through', 'to', 'too','under', 'until', 'up', 've', 'very', 'was',\n",
    "             'we', 'were', 'what', 'when', 'where','which','while', 'who', 'whom',\n",
    "             'why', 'will', 'with', 'won', 'y', 'you', \"youd\",\"youll\", \"youre\",\n",
    "             \"youve\", 'your', 'yours', 'yourself', 'yourselves']"
   ]
  },
  {
   "cell_type": "code",
   "execution_count": null,
   "metadata": {},
   "outputs": [],
   "source": [
    "STOPWORDS = set(stopwordlist)\n",
    "def cleaning_stopwords(text):\n",
    "    return \" \".join([word for word in str(text).split() if word not in STOPWORDS])\n",
    "dataset['cleaned'] = dataset['cleaned'].apply(lambda text: cleaning_stopwords(text))\n",
    "dataset['cleaned'].head()"
   ]
  },
  {
   "cell_type": "code",
   "execution_count": null,
   "metadata": {},
   "outputs": [],
   "source": [
    "#Cleaning and removing punctuations\n",
    "import string\n",
    "english_punctuations = string.punctuation\n",
    "punctuations_list = english_punctuations\n",
    "def cleaning_punctuations(text):\n",
    "    translator = str.maketrans('', '', punctuations_list)\n",
    "    return text.translate(translator)\n",
    "dataset['cleaned']= dataset['cleaned'].apply(lambda x: cleaning_punctuations(x))\n",
    "dataset['cleaned'].tail()"
   ]
  },
  {
   "cell_type": "code",
   "execution_count": null,
   "metadata": {},
   "outputs": [],
   "source": [
    "#Cleaning and removing repeating characters\n",
    "def cleaning_repeating_char(text):\n",
    "    return re.sub(r'(.)1+', r'1', text)\n",
    "dataset['cleaned'] = dataset['cleaned'].apply(lambda x: cleaning_repeating_char(x))\n",
    "dataset['cleaned'].tail()"
   ]
  },
  {
   "cell_type": "code",
   "execution_count": null,
   "metadata": {},
   "outputs": [],
   "source": [
    "#Cleaning and removing URLs\n",
    "def cleaning_URLs(data):\n",
    "    return re.sub('((www.[^s]+)|(https?://[^s]+))',' ',data)\n",
    "dataset['cleaned'] = dataset['cleaned'].apply(lambda x: cleaning_URLs(x))\n",
    "dataset['cleaned'].tail()"
   ]
  },
  {
   "cell_type": "code",
   "execution_count": null,
   "metadata": {},
   "outputs": [],
   "source": [
    "#Cleaning numbers out\n",
    "def cleaning_numbers(data):\n",
    "    return re.sub('[0-9]+', '', data)\n",
    "dataset['cleaned'] = dataset['cleaned'].apply(lambda x: cleaning_numbers(x))\n",
    "dataset['cleaned'].tail()"
   ]
  },
  {
   "cell_type": "code",
   "execution_count": null,
   "metadata": {},
   "outputs": [],
   "source": [
    "#appllying stemming\n",
    "import nltk\n",
    "st = nltk.PorterStemmer()\n",
    "def stemming_on_text(data):\n",
    "    text = [st.stem(word) for word in data]\n",
    "    return data\n",
    "dataset['cleaned']= dataset['cleaned'].apply(lambda x: stemming_on_text(x))\n",
    "dataset['cleaned'].head()"
   ]
  },
  {
   "cell_type": "code",
   "execution_count": null,
   "metadata": {},
   "outputs": [],
   "source": [
    "#applying lemmatizer\n",
    "lm = nltk.WordNetLemmatizer()\n",
    "def lemmatizer_on_text(data):\n",
    "    text = [lm.lemmatize(word) for word in data]\n",
    "    return data\n",
    "dataset['cleaned'] = dataset['cleaned'].apply(lambda x: lemmatizer_on_text(x))\n",
    "dataset['cleaned'].head()"
   ]
  },
  {
   "cell_type": "code",
   "execution_count": null,
   "metadata": {},
   "outputs": [],
   "source": [
    "X=dataset.cleaned\n",
    "y=dataset.sentiment"
   ]
  },
  {
   "cell_type": "code",
   "execution_count": null,
   "metadata": {},
   "outputs": [],
   "source": [
    "data_pos = data['cleaned'][:800000]\n",
    "plt.figure(figsize = (20,20))\n",
    "wc2 = WordCloud(max_words = 1000 , background_color='whitesmoke',width = 1600 , height = 800,\n",
    "               collocations=False).generate(\" \".join(data_pos))\n",
    "plt.imshow(wc2)\n",
    "plt.savefig(\"images/doge_pos_word.png\")"
   ]
  },
  {
   "cell_type": "code",
   "execution_count": null,
   "metadata": {},
   "outputs": [],
   "source": [
    "data_neg = data['cleaned'][:800000]\n",
    "plt.figure(figsize = (20,20))\n",
    "wc = WordCloud(max_words = 1000 , width = 1600 , height = 800,\n",
    "               collocations=False, background_color = \"whitesmoke\").generate(\" \".join(data_neg))\n",
    "plt.imshow(wc)\n",
    "plt.savefig(\"images/doge_neg_word.png\")"
   ]
  },
  {
   "cell_type": "code",
   "execution_count": null,
   "metadata": {},
   "outputs": [],
   "source": [
    "# Separating the 95% data for training data and 5% for testing data\n",
    "X_train, X_test, y_train, y_test = train_test_split(target, target_names,test_size = 0.05, random_state = 42)"
   ]
  },
  {
   "cell_type": "code",
   "execution_count": null,
   "metadata": {},
   "outputs": [],
   "source": [
    "vectoriser = TfidfVectorizer(ngram_range=(1,2), max_features=600000)\n",
    "vectoriser.fit(X_train)\n",
    "print('No. of feature_words: ', len(vectoriser.get_feature_names()))"
   ]
  },
  {
   "cell_type": "code",
   "execution_count": null,
   "metadata": {},
   "outputs": [],
   "source": [
    "X_train = vectoriser.transform(X_train)\n",
    "X_test  = vectoriser.transform(X_test)"
   ]
  },
  {
   "cell_type": "code",
   "execution_count": null,
   "metadata": {},
   "outputs": [],
   "source": [
    "def model_Evaluate(model):\n",
    "    y_pred = model.predict(X_test)\n",
    "    print(classification_report(y_test, y_pred))\n",
    "    cf_matrix = confusion_matrix(y_test, y_pred)\n",
    "    \n",
    "    sentiment = ['Negative','Neutral', 'Positive']\n",
    "    group_names = ['True Neg','False Pos', 'False Neg','True Pos']\n",
    "    \n",
    "    group_percentages = ['{0:.2%}'.format(value) for value in cf_matrix.flatten() / np.sum(cf_matrix)]\n",
    "    labels = [f'{v1}n{v2}' for v1, v2 in zip(group_names,group_percentages)]\n",
    "    labels = np.asarray(labels).reshape(2,2)\n",
    "    sns.heatmap(cf_matrix, cmap = 'Blues', annot=True, fmt='d',\n",
    "                xticklabels = sentiment, yticklabels = sentiment)\n",
    "    plt.xlabel(\"Predicted values\", fontdict = {'size':14}, labelpad = 10)\n",
    "    plt.ylabel(\"Actual values\" , fontdict = {'size':14}, labelpad = 10)\n",
    "    plt.title (\"Confusion Matrix\", fontdict = {'size':18}, pad = 20)"
   ]
  },
  {
   "cell_type": "code",
   "execution_count": null,
   "metadata": {},
   "outputs": [],
   "source": [
    "BNBmodel = BernoulliNB()\n",
    "plt.figure(figsize = (6,5))\n",
    "BNBmodel.fit(X_train, y_train)\n",
    "model_Evaluate(BNBmodel)\n",
    "y_pred1 = BNBmodel.predict(X_test)\n",
    "plt.savefig(\"images/doge_confusion.png\")"
   ]
  },
  {
   "cell_type": "markdown",
   "metadata": {},
   "source": [
    "# Sentiment vs Crypto Price analysis start here"
   ]
  },
  {
   "cell_type": "code",
   "execution_count": null,
   "metadata": {},
   "outputs": [],
   "source": [
    "doge"
   ]
  },
  {
   "cell_type": "code",
   "execution_count": null,
   "metadata": {},
   "outputs": [],
   "source": [
    "crypto"
   ]
  },
  {
   "cell_type": "code",
   "execution_count": null,
   "metadata": {},
   "outputs": [],
   "source": [
    "doge_sentiment = doge.groupby('date')['sentiment'].mean()\n",
    "doge_sentiment = doge_sentiment.reset_index()\n",
    "doge_sentiment"
   ]
  },
  {
   "cell_type": "code",
   "execution_count": null,
   "metadata": {},
   "outputs": [],
   "source": [
    "doge_price_sen = pd.merge(doge_sentiment, crypto,how='outer', on='date')"
   ]
  },
  {
   "cell_type": "code",
   "execution_count": null,
   "metadata": {},
   "outputs": [],
   "source": [
    "doge_clean1 = doge_price_sen.dropna(subset=['sentiment'])"
   ]
  },
  {
   "cell_type": "code",
   "execution_count": null,
   "metadata": {},
   "outputs": [],
   "source": [
    "doge_clean1.head()"
   ]
  },
  {
   "cell_type": "code",
   "execution_count": null,
   "metadata": {},
   "outputs": [],
   "source": [
    "x = doge_clean1[\"date\"]\n",
    "y1 = doge_clean1[\"sentiment\"]\n",
    "y2 = doge_clean1[\"dogecoin_price\"]\n",
    "\n",
    "\n",
    "fig, ax1 = plt.subplots()\n",
    "plt.xticks(rotation = 90)\n",
    "ax2 = ax1.twinx()\n",
    "\n",
    "\n",
    "ax1.plot(x, y1, 'g-')\n",
    "ax2.plot(x, y2, 'b-')\n",
    "\n",
    "ax1.set_xlabel('Date')\n",
    "ax1.set_ylabel('Sentiment', color='g')\n",
    "ax2.set_ylabel('DOGE Price', color='b')\n",
    "\n",
    "plt.savefig(\"images/doge_sentiment_price.png\")\n",
    "plt.show()\n"
   ]
  },
  {
   "cell_type": "code",
   "execution_count": null,
   "metadata": {},
   "outputs": [],
   "source": []
  },
  {
   "cell_type": "code",
   "execution_count": null,
   "metadata": {},
   "outputs": [],
   "source": [
    "doge"
   ]
  },
  {
   "cell_type": "code",
   "execution_count": null,
   "metadata": {},
   "outputs": [],
   "source": [
    "doge_pos_avg = doge.groupby('date')['positive'].mean()\n",
    "doge_pos_avg = doge_pos_avg.reset_index()\n",
    "doge_pos_avg"
   ]
  },
  {
   "cell_type": "code",
   "execution_count": null,
   "metadata": {},
   "outputs": [],
   "source": [
    "doge_neg_avg = doge.groupby('date')['negative'].mean()\n",
    "doge_neg_avg = doge_neg_avg.reset_index()\n",
    "doge_neg_avg"
   ]
  },
  {
   "cell_type": "code",
   "execution_count": null,
   "metadata": {},
   "outputs": [],
   "source": [
    "plt.plot(doge_pos_avg['date'],doge_pos_avg[\"positive\"], linestyle = 'solid')\n",
    "plt.plot(doge_neg_avg['date'],doge_neg_avg[\"negative\"], linestyle = 'solid', color = \"red\")\n",
    "plt.xticks(rotation = 90)\n",
    "plt.figure(figsize = (20,20))\n",
    "#plt.savefig(\"test.png\")\n",
    "plt.show()"
   ]
  },
  {
   "cell_type": "code",
   "execution_count": null,
   "metadata": {},
   "outputs": [],
   "source": [
    "doge = doge_price_sen[(doge_price_sen['date'] > '2022-04-30') & (doge_price_sen['date'] < '2022-05-16')]\n",
    "doge"
   ]
  },
  {
   "cell_type": "code",
   "execution_count": null,
   "metadata": {},
   "outputs": [],
   "source": [
    "import matplotlib.pyplot as plt\n",
    "fig = plt.figure()\n",
    "ax = doge[['dogecoin_volume']].plot(kind='bar', use_index=True)\n",
    "ax2 = ax.twinx()\n",
    "# ax.set_yticklabels(btc['bitcoin_volume'])\n",
    "ax.set_ylabel('Volume', color='g')\n",
    "ax2.set_ylabel('Sentiment', color='b')\n",
    "\n",
    "\n",
    "ax.set_xticklabels(doge['date'], rotation=90)\n",
    "ax2.plot(doge[['sentiment']].values, linestyle='-', marker='o', linewidth=2.0, color=\"red\")"
   ]
  },
  {
   "cell_type": "code",
   "execution_count": null,
   "metadata": {},
   "outputs": [],
   "source": []
  },
  {
   "cell_type": "code",
   "execution_count": null,
   "metadata": {},
   "outputs": [],
   "source": []
  }
 ],
 "metadata": {
  "kernelspec": {
   "display_name": "Python 3 (ipykernel)",
   "language": "python",
   "name": "python3"
  },
  "language_info": {
   "codemirror_mode": {
    "name": "ipython",
    "version": 3
   },
   "file_extension": ".py",
   "mimetype": "text/x-python",
   "name": "python",
   "nbconvert_exporter": "python",
   "pygments_lexer": "ipython3",
   "version": "3.9.7"
  },
  "varInspector": {
   "cols": {
    "lenName": 16,
    "lenType": 16,
    "lenVar": 40
   },
   "kernels_config": {
    "python": {
     "delete_cmd_postfix": "",
     "delete_cmd_prefix": "del ",
     "library": "var_list.py",
     "varRefreshCmd": "print(var_dic_list())"
    },
    "r": {
     "delete_cmd_postfix": ") ",
     "delete_cmd_prefix": "rm(",
     "library": "var_list.r",
     "varRefreshCmd": "cat(var_dic_list()) "
    }
   },
   "types_to_exclude": [
    "module",
    "function",
    "builtin_function_or_method",
    "instance",
    "_Feature"
   ],
   "window_display": false
  }
 },
 "nbformat": 4,
 "nbformat_minor": 4
}
