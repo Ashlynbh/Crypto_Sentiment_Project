{
 "cells": [
  {
   "cell_type": "code",
   "execution_count": 2,
   "metadata": {},
   "outputs": [],
   "source": [
    "from sklearn import tree\n",
    "import pandas as pd\n",
    "import os"
   ]
  },
  {
   "cell_type": "code",
   "execution_count": 3,
   "metadata": {},
   "outputs": [
    {
     "data": {
      "text/html": [
       "<div>\n",
       "<style scoped>\n",
       "    .dataframe tbody tr th:only-of-type {\n",
       "        vertical-align: middle;\n",
       "    }\n",
       "\n",
       "    .dataframe tbody tr th {\n",
       "        vertical-align: top;\n",
       "    }\n",
       "\n",
       "    .dataframe thead th {\n",
       "        text-align: right;\n",
       "    }\n",
       "</style>\n",
       "<table border=\"1\" class=\"dataframe\">\n",
       "  <thead>\n",
       "    <tr style=\"text-align: right;\">\n",
       "      <th></th>\n",
       "      <th>Unnamed: 0</th>\n",
       "      <th>date</th>\n",
       "      <th>comp</th>\n",
       "      <th>Pos/Neg</th>\n",
       "      <th>bitcoin_price</th>\n",
       "      <th>ethereum_price</th>\n",
       "      <th>dogecoin_price</th>\n",
       "      <th>Change ETH</th>\n",
       "      <th>ETH Up/Down</th>\n",
       "    </tr>\n",
       "  </thead>\n",
       "  <tbody>\n",
       "    <tr>\n",
       "      <th>0</th>\n",
       "      <td>0</td>\n",
       "      <td>2022-05-01</td>\n",
       "      <td>0.070634</td>\n",
       "      <td>1.0</td>\n",
       "      <td>53518.018858</td>\n",
       "      <td>3874.650573</td>\n",
       "      <td>0.180779</td>\n",
       "      <td>-112.235667</td>\n",
       "      <td>0</td>\n",
       "    </tr>\n",
       "    <tr>\n",
       "      <th>1</th>\n",
       "      <td>1</td>\n",
       "      <td>2022-05-02</td>\n",
       "      <td>0.093398</td>\n",
       "      <td>1.0</td>\n",
       "      <td>54531.860549</td>\n",
       "      <td>4008.085357</td>\n",
       "      <td>0.188247</td>\n",
       "      <td>133.434784</td>\n",
       "      <td>1</td>\n",
       "    </tr>\n",
       "    <tr>\n",
       "      <th>2</th>\n",
       "      <td>2</td>\n",
       "      <td>2022-05-03</td>\n",
       "      <td>0.078131</td>\n",
       "      <td>1.0</td>\n",
       "      <td>54709.645087</td>\n",
       "      <td>4059.288782</td>\n",
       "      <td>0.186066</td>\n",
       "      <td>51.203425</td>\n",
       "      <td>1</td>\n",
       "    </tr>\n",
       "    <tr>\n",
       "      <th>3</th>\n",
       "      <td>3</td>\n",
       "      <td>2022-05-04</td>\n",
       "      <td>0.075955</td>\n",
       "      <td>1.0</td>\n",
       "      <td>53180.614016</td>\n",
       "      <td>3921.344785</td>\n",
       "      <td>0.182778</td>\n",
       "      <td>-137.943997</td>\n",
       "      <td>0</td>\n",
       "    </tr>\n",
       "    <tr>\n",
       "      <th>4</th>\n",
       "      <td>4</td>\n",
       "      <td>2022-05-05</td>\n",
       "      <td>0.079205</td>\n",
       "      <td>1.0</td>\n",
       "      <td>54702.555595</td>\n",
       "      <td>4053.948028</td>\n",
       "      <td>0.187391</td>\n",
       "      <td>132.603243</td>\n",
       "      <td>1</td>\n",
       "    </tr>\n",
       "  </tbody>\n",
       "</table>\n",
       "</div>"
      ],
      "text/plain": [
       "   Unnamed: 0        date      comp  Pos/Neg  bitcoin_price  ethereum_price  \\\n",
       "0           0  2022-05-01  0.070634      1.0   53518.018858     3874.650573   \n",
       "1           1  2022-05-02  0.093398      1.0   54531.860549     4008.085357   \n",
       "2           2  2022-05-03  0.078131      1.0   54709.645087     4059.288782   \n",
       "3           3  2022-05-04  0.075955      1.0   53180.614016     3921.344785   \n",
       "4           4  2022-05-05  0.079205      1.0   54702.555595     4053.948028   \n",
       "\n",
       "   dogecoin_price  Change ETH  ETH Up/Down  \n",
       "0        0.180779 -112.235667            0  \n",
       "1        0.188247  133.434784            1  \n",
       "2        0.186066   51.203425            1  \n",
       "3        0.182778 -137.943997            0  \n",
       "4        0.187391  132.603243            1  "
      ]
     },
     "execution_count": 3,
     "metadata": {},
     "output_type": "execute_result"
    }
   ],
   "source": [
    "df = pd.read_csv(os.path.join(\"..\", \"Resources\", \"ethereumML.csv\"))\n",
    "df.head()"
   ]
  },
  {
   "cell_type": "code",
   "execution_count": 4,
   "metadata": {},
   "outputs": [],
   "source": [
    "target = df[\"ETH Up/Down\"]\n",
    "target_names = [\"comp\", \"ethereum_price\"]"
   ]
  },
  {
   "cell_type": "code",
   "execution_count": 5,
   "metadata": {},
   "outputs": [
    {
     "data": {
      "text/html": [
       "<div>\n",
       "<style scoped>\n",
       "    .dataframe tbody tr th:only-of-type {\n",
       "        vertical-align: middle;\n",
       "    }\n",
       "\n",
       "    .dataframe tbody tr th {\n",
       "        vertical-align: top;\n",
       "    }\n",
       "\n",
       "    .dataframe thead th {\n",
       "        text-align: right;\n",
       "    }\n",
       "</style>\n",
       "<table border=\"1\" class=\"dataframe\">\n",
       "  <thead>\n",
       "    <tr style=\"text-align: right;\">\n",
       "      <th></th>\n",
       "      <th>comp</th>\n",
       "      <th>bitcoin_price</th>\n",
       "      <th>ethereum_price</th>\n",
       "      <th>dogecoin_price</th>\n",
       "    </tr>\n",
       "  </thead>\n",
       "  <tbody>\n",
       "    <tr>\n",
       "      <th>0</th>\n",
       "      <td>0.070634</td>\n",
       "      <td>53518.018858</td>\n",
       "      <td>3874.650573</td>\n",
       "      <td>0.180779</td>\n",
       "    </tr>\n",
       "    <tr>\n",
       "      <th>1</th>\n",
       "      <td>0.093398</td>\n",
       "      <td>54531.860549</td>\n",
       "      <td>4008.085357</td>\n",
       "      <td>0.188247</td>\n",
       "    </tr>\n",
       "    <tr>\n",
       "      <th>2</th>\n",
       "      <td>0.078131</td>\n",
       "      <td>54709.645087</td>\n",
       "      <td>4059.288782</td>\n",
       "      <td>0.186066</td>\n",
       "    </tr>\n",
       "    <tr>\n",
       "      <th>3</th>\n",
       "      <td>0.075955</td>\n",
       "      <td>53180.614016</td>\n",
       "      <td>3921.344785</td>\n",
       "      <td>0.182778</td>\n",
       "    </tr>\n",
       "    <tr>\n",
       "      <th>4</th>\n",
       "      <td>0.079205</td>\n",
       "      <td>54702.555595</td>\n",
       "      <td>4053.948028</td>\n",
       "      <td>0.187391</td>\n",
       "    </tr>\n",
       "  </tbody>\n",
       "</table>\n",
       "</div>"
      ],
      "text/plain": [
       "       comp  bitcoin_price  ethereum_price  dogecoin_price\n",
       "0  0.070634   53518.018858     3874.650573        0.180779\n",
       "1  0.093398   54531.860549     4008.085357        0.188247\n",
       "2  0.078131   54709.645087     4059.288782        0.186066\n",
       "3  0.075955   53180.614016     3921.344785        0.182778\n",
       "4  0.079205   54702.555595     4053.948028        0.187391"
      ]
     },
     "execution_count": 5,
     "metadata": {},
     "output_type": "execute_result"
    }
   ],
   "source": [
    "data = df.drop([\"ETH Up/Down\", \"date\", \"Unnamed: 0\", \"Change ETH\", \"Pos/Neg\"], axis=1)\n",
    "feature_names = data.columns\n",
    "data.head()"
   ]
  },
  {
   "cell_type": "code",
   "execution_count": 6,
   "metadata": {},
   "outputs": [],
   "source": [
    "# Split the data using train_test_split\n",
    "from sklearn.model_selection import train_test_split\n",
    "X_train, X_test, y_train, y_test = train_test_split(data, target, random_state=42)"
   ]
  },
  {
   "cell_type": "code",
   "execution_count": 7,
   "metadata": {},
   "outputs": [
    {
     "data": {
      "text/plain": [
       "0.25"
      ]
     },
     "execution_count": 7,
     "metadata": {},
     "output_type": "execute_result"
    }
   ],
   "source": [
    "# Create a Decision Tree Classifier\n",
    "clf = tree.DecisionTreeClassifier()\n",
    "clf = clf.fit(X_train, y_train)\n",
    "clf.score(X_test, y_test)"
   ]
  },
  {
   "cell_type": "code",
   "execution_count": 8,
   "metadata": {},
   "outputs": [
    {
     "data": {
      "text/plain": [
       "0.5"
      ]
     },
     "execution_count": 8,
     "metadata": {},
     "output_type": "execute_result"
    }
   ],
   "source": [
    "# Fit the classifier to the data\n",
    "from sklearn.ensemble import RandomForestClassifier\n",
    "rf = RandomForestClassifier(n_estimators=10)\n",
    "rf = rf.fit(X_train, y_train)\n",
    "rf.score(X_test, y_test)"
   ]
  },
  {
   "cell_type": "code",
   "execution_count": 9,
   "metadata": {},
   "outputs": [
    {
     "data": {
      "text/plain": [
       "[(0.3096031746031746, 'dogecoin_price'),\n",
       " (0.26682539682539685, 'bitcoin_price'),\n",
       " (0.2576190476190476, 'ethereum_price'),\n",
       " (0.16595238095238096, 'comp')]"
      ]
     },
     "execution_count": 9,
     "metadata": {},
     "output_type": "execute_result"
    }
   ],
   "source": [
    "# Bonus\n",
    "# Create, fit, and score a Random Forest Classifier\n",
    "sorted(zip(rf.feature_importances_, feature_names), reverse=True)"
   ]
  },
  {
   "cell_type": "code",
   "execution_count": null,
   "metadata": {},
   "outputs": [],
   "source": []
  }
 ],
 "metadata": {
  "kernelspec": {
   "display_name": "Python 3",
   "language": "python",
   "name": "python3"
  },
  "language_info": {
   "codemirror_mode": {
    "name": "ipython",
    "version": 3
   },
   "file_extension": ".py",
   "mimetype": "text/x-python",
   "name": "python",
   "nbconvert_exporter": "python",
   "pygments_lexer": "ipython3",
   "version": "3.8.8"
  },
  "varInspector": {
   "cols": {
    "lenName": 16,
    "lenType": 16,
    "lenVar": 40
   },
   "kernels_config": {
    "python": {
     "delete_cmd_postfix": "",
     "delete_cmd_prefix": "del ",
     "library": "var_list.py",
     "varRefreshCmd": "print(var_dic_list())"
    },
    "r": {
     "delete_cmd_postfix": ") ",
     "delete_cmd_prefix": "rm(",
     "library": "var_list.r",
     "varRefreshCmd": "cat(var_dic_list()) "
    }
   },
   "types_to_exclude": [
    "module",
    "function",
    "builtin_function_or_method",
    "instance",
    "_Feature"
   ],
   "window_display": false
  }
 },
 "nbformat": 4,
 "nbformat_minor": 2
}
