{
 "cells": [
  {
   "cell_type": "code",
   "execution_count": 1,
   "id": "bf758eaa-3248-4914-a930-5efa35a6df3e",
   "metadata": {},
   "outputs": [],
   "source": [
    "import pandas as pd\n",
    "import glob"
   ]
  },
  {
   "cell_type": "code",
   "execution_count": 2,
   "id": "34b7db3d-c602-45ea-9f6b-29781dacb6eb",
   "metadata": {},
   "outputs": [],
   "source": [
    "files = \"dollar_doge_*.csv\"\n",
    "files = glob.glob(files)"
   ]
  },
  {
   "cell_type": "code",
   "execution_count": 3,
   "id": "608bfbd9-fe60-499d-9d9c-aa2f72d029f8",
   "metadata": {},
   "outputs": [
    {
     "data": {
      "text/html": [
       "<div>\n",
       "<style scoped>\n",
       "    .dataframe tbody tr th:only-of-type {\n",
       "        vertical-align: middle;\n",
       "    }\n",
       "\n",
       "    .dataframe tbody tr th {\n",
       "        vertical-align: top;\n",
       "    }\n",
       "\n",
       "    .dataframe thead th {\n",
       "        text-align: right;\n",
       "    }\n",
       "</style>\n",
       "<table border=\"1\" class=\"dataframe\">\n",
       "  <thead>\n",
       "    <tr style=\"text-align: right;\">\n",
       "      <th></th>\n",
       "      <th>Unnamed: 0</th>\n",
       "      <th>Datetime</th>\n",
       "      <th>Text</th>\n",
       "    </tr>\n",
       "  </thead>\n",
       "  <tbody>\n",
       "    <tr>\n",
       "      <th>0</th>\n",
       "      <td>0</td>\n",
       "      <td>2022-05-01 23:59:29+00:00</td>\n",
       "      <td>$BTC $ETH $DOGE $ens    Best discord community...</td>\n",
       "    </tr>\n",
       "    <tr>\n",
       "      <th>1</th>\n",
       "      <td>1</td>\n",
       "      <td>2022-05-01 23:59:17+00:00</td>\n",
       "      <td>@selenaroyf @PolyDoge @MetaPetzAI @JamieBa0632...</td>\n",
       "    </tr>\n",
       "    <tr>\n",
       "      <th>2</th>\n",
       "      <td>2</td>\n",
       "      <td>2022-05-01 23:58:02+00:00</td>\n",
       "      <td>ツイート数の多かった仮想通貨\\n1位 $ETH 1429 Tweets\\n2位 $BTC 1...</td>\n",
       "    </tr>\n",
       "    <tr>\n",
       "      <th>3</th>\n",
       "      <td>3</td>\n",
       "      <td>2022-05-01 23:57:42+00:00</td>\n",
       "      <td>@selenaroyf @PolyDoge @MetaPetzAI @Carpenterrr...</td>\n",
       "    </tr>\n",
       "    <tr>\n",
       "      <th>4</th>\n",
       "      <td>4</td>\n",
       "      <td>2022-05-01 23:56:17+00:00</td>\n",
       "      <td>$264,600,000,000 x 7.55 = 1,997,730,000,000 $D...</td>\n",
       "    </tr>\n",
       "    <tr>\n",
       "      <th>...</th>\n",
       "      <td>...</td>\n",
       "      <td>...</td>\n",
       "      <td>...</td>\n",
       "    </tr>\n",
       "    <tr>\n",
       "      <th>34403</th>\n",
       "      <td>2357</td>\n",
       "      <td>2022-05-14 00:00:04+00:00</td>\n",
       "      <td>🔄 Prices update in $USD | Last 1 hour\\n\\n$XRP ...</td>\n",
       "    </tr>\n",
       "    <tr>\n",
       "      <th>34404</th>\n",
       "      <td>2358</td>\n",
       "      <td>2022-05-14 00:00:04+00:00</td>\n",
       "      <td>🟩 $BTC: 29240.80 USD\\n🟩 $ETH: 2006.14 USD\\n🟩 $...</td>\n",
       "    </tr>\n",
       "    <tr>\n",
       "      <th>34405</th>\n",
       "      <td>2359</td>\n",
       "      <td>2022-05-14 00:00:01+00:00</td>\n",
       "      <td>$BTC Price: $29,311 📉\\n$ETH Price: $2,013.62 📉...</td>\n",
       "    </tr>\n",
       "    <tr>\n",
       "      <th>34406</th>\n",
       "      <td>2360</td>\n",
       "      <td>2022-05-14 00:00:00+00:00</td>\n",
       "      <td>📈 ¡Compra #BabyDoge y otras #memecoins en #OKX...</td>\n",
       "    </tr>\n",
       "    <tr>\n",
       "      <th>34407</th>\n",
       "      <td>2361</td>\n",
       "      <td>2022-05-14 00:00:00+00:00</td>\n",
       "      <td>📈 Compre #BabyDoge e outras #memecoins na #OKX...</td>\n",
       "    </tr>\n",
       "  </tbody>\n",
       "</table>\n",
       "<p>34408 rows × 3 columns</p>\n",
       "</div>"
      ],
      "text/plain": [
       "       Unnamed: 0                   Datetime  \\\n",
       "0               0  2022-05-01 23:59:29+00:00   \n",
       "1               1  2022-05-01 23:59:17+00:00   \n",
       "2               2  2022-05-01 23:58:02+00:00   \n",
       "3               3  2022-05-01 23:57:42+00:00   \n",
       "4               4  2022-05-01 23:56:17+00:00   \n",
       "...           ...                        ...   \n",
       "34403        2357  2022-05-14 00:00:04+00:00   \n",
       "34404        2358  2022-05-14 00:00:04+00:00   \n",
       "34405        2359  2022-05-14 00:00:01+00:00   \n",
       "34406        2360  2022-05-14 00:00:00+00:00   \n",
       "34407        2361  2022-05-14 00:00:00+00:00   \n",
       "\n",
       "                                                    Text  \n",
       "0      $BTC $ETH $DOGE $ens    Best discord community...  \n",
       "1      @selenaroyf @PolyDoge @MetaPetzAI @JamieBa0632...  \n",
       "2      ツイート数の多かった仮想通貨\\n1位 $ETH 1429 Tweets\\n2位 $BTC 1...  \n",
       "3      @selenaroyf @PolyDoge @MetaPetzAI @Carpenterrr...  \n",
       "4      $264,600,000,000 x 7.55 = 1,997,730,000,000 $D...  \n",
       "...                                                  ...  \n",
       "34403  🔄 Prices update in $USD | Last 1 hour\\n\\n$XRP ...  \n",
       "34404  🟩 $BTC: 29240.80 USD\\n🟩 $ETH: 2006.14 USD\\n🟩 $...  \n",
       "34405  $BTC Price: $29,311 📉\\n$ETH Price: $2,013.62 📉...  \n",
       "34406  📈 ¡Compra #BabyDoge y otras #memecoins en #OKX...  \n",
       "34407  📈 Compre #BabyDoge e outras #memecoins na #OKX...  \n",
       "\n",
       "[34408 rows x 3 columns]"
      ]
     },
     "execution_count": 3,
     "metadata": {},
     "output_type": "execute_result"
    }
   ],
   "source": [
    "dollar_doge_df= pd.concat(map(pd.read_csv, files), ignore_index=True)\n",
    "dollar_doge_df"
   ]
  },
  {
   "cell_type": "code",
   "execution_count": 5,
   "id": "5f4a9876-1412-45c4-9640-d135321a7cf7",
   "metadata": {},
   "outputs": [],
   "source": [
    "dollar_doge_df.to_csv(\"dollar_doge_combined.csv\")"
   ]
  },
  {
   "cell_type": "code",
   "execution_count": null,
   "id": "b81d9e47-890c-4d41-866f-b158b0e07b6f",
   "metadata": {},
   "outputs": [],
   "source": []
  }
 ],
 "metadata": {
  "kernelspec": {
   "display_name": "Python 3 (ipykernel)",
   "language": "python",
   "name": "python3"
  },
  "language_info": {
   "codemirror_mode": {
    "name": "ipython",
    "version": 3
   },
   "file_extension": ".py",
   "mimetype": "text/x-python",
   "name": "python",
   "nbconvert_exporter": "python",
   "pygments_lexer": "ipython3",
   "version": "3.9.7"
  }
 },
 "nbformat": 4,
 "nbformat_minor": 5
}
