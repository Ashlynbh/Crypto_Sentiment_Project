{
 "cells": [
  {
   "cell_type": "code",
   "execution_count": 1,
   "id": "bf758eaa-3248-4914-a930-5efa35a6df3e",
   "metadata": {},
   "outputs": [],
   "source": [
    "import pandas as pd\n",
    "import glob"
   ]
  },
  {
   "cell_type": "code",
   "execution_count": 2,
   "id": "34b7db3d-c602-45ea-9f6b-29781dacb6eb",
   "metadata": {},
   "outputs": [],
   "source": [
    "files = \"data/eth_day*.csv\"\n",
    "files = glob.glob(files)"
   ]
  },
  {
   "cell_type": "code",
   "execution_count": 3,
   "id": "608bfbd9-fe60-499d-9d9c-aa2f72d029f8",
   "metadata": {},
   "outputs": [
    {
     "data": {
      "text/html": [
       "<div>\n",
       "<style scoped>\n",
       "    .dataframe tbody tr th:only-of-type {\n",
       "        vertical-align: middle;\n",
       "    }\n",
       "\n",
       "    .dataframe tbody tr th {\n",
       "        vertical-align: top;\n",
       "    }\n",
       "\n",
       "    .dataframe thead th {\n",
       "        text-align: right;\n",
       "    }\n",
       "</style>\n",
       "<table border=\"1\" class=\"dataframe\">\n",
       "  <thead>\n",
       "    <tr style=\"text-align: right;\">\n",
       "      <th></th>\n",
       "      <th>Unnamed: 0</th>\n",
       "      <th>Datetime</th>\n",
       "      <th>Text</th>\n",
       "    </tr>\n",
       "  </thead>\n",
       "  <tbody>\n",
       "    <tr>\n",
       "      <th>0</th>\n",
       "      <td>0</td>\n",
       "      <td>2022-05-02 23:59:59+00:00</td>\n",
       "      <td>【123战法早8点播报-2022.5.3】\\n#BTC  日线：空，小时线：多\\n#ETH ...</td>\n",
       "    </tr>\n",
       "    <tr>\n",
       "      <th>1</th>\n",
       "      <td>1</td>\n",
       "      <td>2022-05-02 23:59:45+00:00</td>\n",
       "      <td>https://t.co/MeCEt7jfgS @DNC will be approving...</td>\n",
       "    </tr>\n",
       "    <tr>\n",
       "      <th>2</th>\n",
       "      <td>2</td>\n",
       "      <td>2022-05-02 23:59:15+00:00</td>\n",
       "      <td>4 hour top movers report #blockchain #crypto #...</td>\n",
       "    </tr>\n",
       "    <tr>\n",
       "      <th>3</th>\n",
       "      <td>3</td>\n",
       "      <td>2022-05-02 23:59:12+00:00</td>\n",
       "      <td>#Bitcoin Last Price $38512 #BTC 🚀\\nDaily Indic...</td>\n",
       "    </tr>\n",
       "    <tr>\n",
       "      <th>4</th>\n",
       "      <td>4</td>\n",
       "      <td>2022-05-02 23:59:02+00:00</td>\n",
       "      <td>$RickMortyDoxx $RMD #RMDOXX #ETH #Ethereum #Ai...</td>\n",
       "    </tr>\n",
       "    <tr>\n",
       "      <th>...</th>\n",
       "      <td>...</td>\n",
       "      <td>...</td>\n",
       "      <td>...</td>\n",
       "    </tr>\n",
       "    <tr>\n",
       "      <th>150010</th>\n",
       "      <td>9996</td>\n",
       "      <td>2022-05-10 09:03:10+00:00</td>\n",
       "      <td>#Crypto\\n#BTC- 31775$     24H CHANGE-&amp;gt; -5.1...</td>\n",
       "    </tr>\n",
       "    <tr>\n",
       "      <th>150011</th>\n",
       "      <td>9997</td>\n",
       "      <td>2022-05-10 09:03:03+00:00</td>\n",
       "      <td>ETH Gas is now valued at 31! #ETH #gwei #GasAl...</td>\n",
       "    </tr>\n",
       "    <tr>\n",
       "      <th>150012</th>\n",
       "      <td>9998</td>\n",
       "      <td>2022-05-10 09:03:02+00:00</td>\n",
       "      <td>#GNOUSDT Bull Alert!\\n\\n5X Volume\\nPrice:     ...</td>\n",
       "    </tr>\n",
       "    <tr>\n",
       "      <th>150013</th>\n",
       "      <td>9999</td>\n",
       "      <td>2022-05-10 09:03:02+00:00</td>\n",
       "      <td>Actu 9 mai : @cryptoastblog \\nVoilà pourquoi L...</td>\n",
       "    </tr>\n",
       "    <tr>\n",
       "      <th>150014</th>\n",
       "      <td>10000</td>\n",
       "      <td>2022-05-10 09:03:01+00:00</td>\n",
       "      <td>I knew it wayback 🫡‼️\\n#btc #Cryptocrash #eth ...</td>\n",
       "    </tr>\n",
       "  </tbody>\n",
       "</table>\n",
       "<p>150015 rows × 3 columns</p>\n",
       "</div>"
      ],
      "text/plain": [
       "        Unnamed: 0                   Datetime  \\\n",
       "0                0  2022-05-02 23:59:59+00:00   \n",
       "1                1  2022-05-02 23:59:45+00:00   \n",
       "2                2  2022-05-02 23:59:15+00:00   \n",
       "3                3  2022-05-02 23:59:12+00:00   \n",
       "4                4  2022-05-02 23:59:02+00:00   \n",
       "...            ...                        ...   \n",
       "150010        9996  2022-05-10 09:03:10+00:00   \n",
       "150011        9997  2022-05-10 09:03:03+00:00   \n",
       "150012        9998  2022-05-10 09:03:02+00:00   \n",
       "150013        9999  2022-05-10 09:03:02+00:00   \n",
       "150014       10000  2022-05-10 09:03:01+00:00   \n",
       "\n",
       "                                                     Text  \n",
       "0       【123战法早8点播报-2022.5.3】\\n#BTC  日线：空，小时线：多\\n#ETH ...  \n",
       "1       https://t.co/MeCEt7jfgS @DNC will be approving...  \n",
       "2       4 hour top movers report #blockchain #crypto #...  \n",
       "3       #Bitcoin Last Price $38512 #BTC 🚀\\nDaily Indic...  \n",
       "4       $RickMortyDoxx $RMD #RMDOXX #ETH #Ethereum #Ai...  \n",
       "...                                                   ...  \n",
       "150010  #Crypto\\n#BTC- 31775$     24H CHANGE-&gt; -5.1...  \n",
       "150011  ETH Gas is now valued at 31! #ETH #gwei #GasAl...  \n",
       "150012  #GNOUSDT Bull Alert!\\n\\n5X Volume\\nPrice:     ...  \n",
       "150013  Actu 9 mai : @cryptoastblog \\nVoilà pourquoi L...  \n",
       "150014  I knew it wayback 🫡‼️\\n#btc #Cryptocrash #eth ...  \n",
       "\n",
       "[150015 rows x 3 columns]"
      ]
     },
     "execution_count": 3,
     "metadata": {},
     "output_type": "execute_result"
    }
   ],
   "source": [
    "eth_df= pd.concat(map(pd.read_csv, files), ignore_index=True)\n",
    "eth_df"
   ]
  },
  {
   "cell_type": "code",
   "execution_count": 7,
   "id": "5f4a9876-1412-45c4-9640-d135321a7cf7",
   "metadata": {},
   "outputs": [],
   "source": [
    "eth_df.to_csv(\"data/eth_all.csv\")"
   ]
  },
  {
   "cell_type": "code",
   "execution_count": null,
   "id": "292eb92c",
   "metadata": {},
   "outputs": [],
   "source": []
  }
 ],
 "metadata": {
  "kernelspec": {
   "display_name": "Python 3",
   "language": "python",
   "name": "python3"
  },
  "language_info": {
   "codemirror_mode": {
    "name": "ipython",
    "version": 3
   },
   "file_extension": ".py",
   "mimetype": "text/x-python",
   "name": "python",
   "nbconvert_exporter": "python",
   "pygments_lexer": "ipython3",
   "version": "3.8.8"
  }
 },
 "nbformat": 4,
 "nbformat_minor": 5
}
